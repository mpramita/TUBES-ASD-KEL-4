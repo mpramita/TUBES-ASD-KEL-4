{
  "nbformat": 4,
  "nbformat_minor": 0,
  "metadata": {
    "colab": {
      "name": "Untitled45.ipynb",
      "provenance": []
    },
    "kernelspec": {
      "name": "python3",
      "display_name": "Python 3"
    },
    "language_info": {
      "name": "python"
    }
  },
  "cells": [
    {
      "cell_type": "code",
      "execution_count": null,
      "metadata": {
        "colab": {
          "base_uri": "https://localhost:8080/"
        },
        "id": "3hVqz3H6rXCF",
        "outputId": "97dc173c-f141-4235-b213-f5a9c180f06f"
      },
      "outputs": [
        {
          "output_type": "stream",
          "name": "stdout",
          "text": [
            "1. Tambah antrian\n",
            "2. Lihat antrian sekarang\n",
            "3. hapus antrian\n",
            "4. keluar\n",
            "1\n",
            "masukkan plat mobil = 123\n",
            "-----------------------\n",
            "\n",
            "-----------------------\n",
            "1    123\n",
            "Name: platmobil, dtype: object \n",
            "\n",
            "-----------------------\n",
            "1. Tambah antrian\n",
            "2. Lihat antrian sekarang\n",
            "3. hapus antrian\n",
            "4. keluar\n",
            "1\n",
            "masukkan plat mobil = 234\n",
            "-----------------------\n",
            "\n",
            "-----------------------\n",
            "1    123\n",
            "2    234\n",
            "Name: platmobil, dtype: object \n",
            "\n",
            "-----------------------\n",
            "1. Tambah antrian\n",
            "2. Lihat antrian sekarang\n",
            "3. hapus antrian\n",
            "4. keluar\n",
            "2\n",
            "  antrian platmobil\n",
            "1       1       123\n",
            "2       2       234\n",
            "\n",
            "masukkan nomor antrian mobil yang akan dikeluarkan = 1\n",
            "\n",
            "mobil telah dikeluarkan\n",
            "1. Tambah antrian\n",
            "2. Lihat antrian sekarang\n",
            "3. hapus antrian\n",
            "4. keluar\n",
            "4\n",
            "selesai\n"
          ]
        }
      ],
      "source": [
        "import pandas as pd\n",
        "class parkirmobil:\n",
        "  no = 0\n",
        "  df = pd.DataFrame(columns=['antrian', 'platmobil'])\n",
        "\n",
        "  def __init__(self):\n",
        "    number = parkirmobil.no\n",
        "    self.noplatmobil = 0\n",
        "  \n",
        "  def tambah(self):\n",
        "    plat = int(input('masukkan plat mobil = '))\n",
        "    print(\"-----------------------\")\n",
        "    print()\n",
        "    print(\"-----------------------\")\n",
        "    if self.duplicate(plat):\n",
        "      print('mobil sudah diparkir')\n",
        "      print(\"-----------------------\")\n",
        "    else:\n",
        "      parkirmobil.no += 1\n",
        "      self.noplatmobil = plat\n",
        "      parkirmobil.df.loc[parkirmobil.no] = [parkirmobil.no,self.noplatmobil]44\n",
        "      print(parkirmobil.df['platmobil'], '\\n') \n",
        "      print(\"-----------------------\")\n",
        "\n",
        "  def duplicate(self, x):\n",
        "    for platmobil in parkirmobil.df['platmobil']:\n",
        "      if platmobil == x:\n",
        "        return True\n",
        "      return False\n",
        "  \n",
        "  def keluarkan(self):\n",
        "    print(parkirmobil.df)\n",
        "    print()\n",
        "    mobil = int(input('masukkan nomor antrian mobil yang akan dikeluarkan = '))\n",
        "    if mobil == parkirmobil.df.iloc[:1]. index:\n",
        "      parkirmobil.df.drop([mobil], inplace=True)\n",
        "      print('\\nmobil telah dikeluarkan')\n",
        "    else:\n",
        "      print('\\n\\t anda harus mengeluarkan mobil yang terdepan dahulu')\n",
        "\n",
        "  def tampilkan(self):\n",
        "    print('jumlah antrian parkir')\n",
        "    print(parkirmobil.df,'\\n')\n",
        "\n",
        "parkir = parkirmobil()\n",
        "ulang = 0 \n",
        "while ulang == 0:\n",
        "  pilih = int(input('1. Tambah antrian\\n2. Lihat antrian sekarang\\n3. hapus antrian\\n4. keluar\\n'))\n",
        "  \n",
        "  if pilih == 1:\n",
        "    parkir.tambah()\n",
        "  elif pilih == 2:\n",
        "    parkir.keluarkan()\n",
        "  elif pilih == 3:\n",
        "    parkir.tampilkan()\n",
        "  elif pilih == 4:\n",
        "    print('selesai')\n",
        "    break\n",
        "  \n",
        "\n",
        "\n",
        "  \n"
      ]
    },
    {
      "cell_type": "code",
      "source": [
        ""
      ],
      "metadata": {
        "id": "-Q_L_UI9x5zO"
      },
      "execution_count": null,
      "outputs": []
    }
  ]
}